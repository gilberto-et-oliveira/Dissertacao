{
 "cells": [
  {
   "cell_type": "code",
   "execution_count": 1,
   "id": "df58aba5",
   "metadata": {},
   "outputs": [],
   "source": [
    "################### LER A IMAGEM DE LUZ NOTURNA ####################\n",
    "from osgeo import gdal, ogr, osr\n",
    "import numpy as np\n",
    "import matplotlib.pyplot as plt\n",
    "import geopandas as gpd\n",
    "import os.path\n",
    "import os\n",
    "\n",
    "########### ABRIR ARQUIVO RASTER ###############################################\n",
    "\n",
    "######## É PRECISO QUE A PROJEÇÃO ESTEJA EM UTM ###################\n",
    "\n",
    "img = 'D:/INPE_DISCIPLINAS/Dissertacao/raster/luz_noturna/nighttime_CAMETA_2013_31982.tif'\n",
    "\n",
    "ds = gdal.Open(img)\n",
    "gt = ds.GetGeoTransform()\n",
    "proj = ds.GetProjection()\n",
    "\n",
    "band = ds.GetRasterBand(1)\n",
    "array = band.ReadAsArray()"
   ]
  },
  {
   "cell_type": "code",
   "execution_count": 2,
   "id": "415bfb7c",
   "metadata": {},
   "outputs": [
    {
     "data": {
      "text/plain": [
       "<matplotlib.image.AxesImage at 0x241c6b4d570>"
      ]
     },
     "execution_count": 2,
     "metadata": {},
     "output_type": "execute_result"
    },
    {
     "data": {
      "image/png": "[encoded data removed]",
      "text/plain": [
       "<Figure size 432x288 with 1 Axes>"
      ]
     },
     "metadata": {
      "needs_background": "light"
     },
     "output_type": "display_data"
    }
   ],
   "source": [
    "plt.imshow(array > 0.6)"
   ]
  },
  {
   "cell_type": "code",
   "execution_count": 47,
   "id": "37c42ad6",
   "metadata": {},
   "outputs": [
    {
     "data": {
      "text/plain": [
       "<AxesSubplot:>"
      ]
     },
     "execution_count": 47,
     "metadata": {},
     "output_type": "execute_result"
    },
    {
     "data": {
      "image/png": "[encoded data removed]",
      "text/plain": [
       "<Figure size 432x288 with 1 Axes>"
      ]
     },
     "metadata": {
      "needs_background": "light"
     },
     "output_type": "display_data"
    }
   ],
   "source": [
    "########## ABRIR ARQUIVO SHP DOS SETORES #######################################\n",
    "'''sc_urb = 'D:/INPE_DISCIPLINAS/Dissertacao/shapes/setor_censitario/sc_2010_periurb_proposto.shp'\n",
    "\n",
    "area_urb = gpd.read_file(sc_urb)\n",
    "area_urb = area_urb[area_urb['NM_MUNICIP'] == 'CAMETÁ']\n",
    "area_urb = area_urb[area_urb['situacaoNu']== 11].to_crs(31982).dissolve().buffer(50)\n",
    "area_urb.plot(color = 'red', edgecolor = 'black')\n",
    "\n",
    "\n",
    "'''\n",
    "sc_urb = 'D:/ibge/setor_censi/2020/PA_Setores_2020.shp'\n",
    "\n",
    "area_urb = gpd.read_file(sc_urb)\n",
    "area_urb = area_urb[area_urb['caso'] == 2]\n",
    "#print(area_urb)\n",
    "area_urb = area_urb[area_urb['situacaoNu']== 11].to_crs(31982).dissolve().buffer(50)\n",
    "\n",
    "area_urb.plot(marker='o', color='red', markersize=5, edgecolor = 'black')"
   ]
  },
  {
   "cell_type": "code",
   "execution_count": 7,
   "id": "f6a281c2",
   "metadata": {},
   "outputs": [],
   "source": [
    "########################### MODIFICAR PARA OS DESTINOS ESPECÍFICOS DESEJADOS #################################################\n",
    "a = 'False'\n",
    "limiar = 0.70   # limiar inicial a ser utilizado na imagem                                                                   #\n",
    "limiarizado = 'D:/INPE_DISCIPLINAS/Dissertacao/raster/luz_noturna/limiares/teste_CAMETA2013b.tif'  # local do arquivo limiarizado.tif     #\n",
    "out_path = 'D:/INPE_DISCIPLINAS/Dissertacao/shapes/luz_noturna/teste_CAMETA2013b.shp' # LOCAL SHP LIMIARIZADO\n",
    "bloco_notas = 'D:/INPE_DISCIPLINAS/Dissertacao/tabelas/limiares_CAMETA_2013b.txt'  # local armazenado os valores de limiares testados #\n"
   ]
  },
  {
   "cell_type": "code",
   "execution_count": 8,
   "id": "0f836139",
   "metadata": {},
   "outputs": [
    {
     "name": "stdout",
     "output_type": "stream",
     "text": [
      "teste limiar:  0.7\n",
      "teste limiar:  0.69\n",
      "teste limiar:  0.6799999999999999\n",
      "teste limiar:  0.6699999999999999\n",
      "teste limiar:  0.6599999999999999\n",
      "teste limiar:  0.6499999999999999\n",
      "teste limiar:  0.6399999999999999\n",
      "teste limiar:  0.6299999999999999\n",
      "teste limiar:  0.6199999999999999\n",
      "teste limiar:  0.6099999999999999\n",
      "teste limiar:  0.5999999999999999\n",
      "teste limiar:  0.5899999999999999\n",
      "teste limiar:  0.5799999999999998\n",
      "teste limiar:  0.5699999999999998\n",
      "teste limiar:  0.5599999999999998\n",
      "teste limiar:  0.5499999999999998\n",
      "teste limiar:  0.5399999999999998\n",
      "teste limiar:  0.5299999999999998\n",
      "teste limiar:  0.5199999999999998\n",
      "teste limiar:  0.5099999999999998\n",
      "teste limiar:  0.4999999999999998\n",
      "teste limiar:  0.48999999999999977\n",
      "teste limiar:  0.47999999999999976\n",
      "teste limiar:  0.46999999999999975\n",
      "teste limiar:  0.45999999999999974\n",
      "teste limiar:  0.44999999999999973\n",
      "teste limiar:  0.4399999999999997\n",
      "teste limiar:  0.4299999999999997\n",
      "teste limiar:  0.4199999999999997\n",
      "teste limiar:  0.4099999999999997\n",
      "teste limiar:  0.3999999999999997\n",
      "teste limiar:  0.3899999999999997\n",
      "teste limiar:  0.37999999999999967\n",
      "teste limiar:  0.36999999999999966\n",
      "teste limiar:  0.35999999999999965\n",
      "teste limiar:  0.34999999999999964\n",
      "teste limiar:  0.33999999999999964\n",
      "teste limiar:  0.3299999999999996\n",
      "teste limiar:  0.3199999999999996\n",
      "teste limiar:  0.3099999999999996\n",
      "teste limiar:  0.2999999999999996\n",
      "teste limiar:  0.2899999999999996\n",
      "teste limiar:  0.2799999999999996\n",
      "teste limiar:  0.2699999999999996\n",
      "LIMIAR ENCONTRADO:  0.2699999999999996\n"
     ]
    }
   ],
   "source": [
    "while 'False' in a:\n",
    "    ####################### EXPORTANDO O RASTER LIMIARIZADO ######################\n",
    "    '''\n",
    "    NESSA PARTE USA O LIMIARIZADO E O LIMIAR\n",
    "    '''\n",
    "    print('teste limiar: ', limiar)\n",
    "    classificacao = array > limiar\n",
    "\n",
    "    if os.path.exists(limiarizado):\n",
    "        os.remove(limiarizado) \n",
    "        \n",
    "    driver = gdal.GetDriverByName('GTiff')\n",
    "    driver.Register()\n",
    "\n",
    "    outds = driver.Create(limiarizado, xsize=classificacao.shape[1],\n",
    "                     ysize = classificacao.shape[0],\n",
    "                     bands = 1,\n",
    "                     eType = gdal.GDT_Float32)\n",
    "\n",
    "    outds.SetGeoTransform(gt)\n",
    "    outds.SetProjection(proj)\n",
    "    outband = outds.GetRasterBand(1)\n",
    "    outband.WriteArray(classificacao)\n",
    "    outband.SetNoDataValue(np.nan)\n",
    "    outband.FlushCache()\n",
    "\n",
    "    outband = None\n",
    "    outds = None\n",
    "     \n",
    "    ######################## CONVERTER RASTER LIMIARIZADO PARA VETOR ####################\n",
    "    '''\n",
    "    NESSA PARTE USA O LIMIARIZADO (TIF) E O OUT_PATH (SHP)\n",
    "    '''\n",
    "    if os.path.exists(out_path):\n",
    "            os.remove(out_path)\n",
    "\n",
    "    #  get raster datasource\n",
    "    src_ds = gdal.Open( limiarizado )\n",
    "    #\n",
    "    srcband = src_ds.GetRasterBand(1)\n",
    "    dst_layername = 'teste_str2013'\n",
    "    drv = ogr.GetDriverByName(\"ESRI Shapefile\")\n",
    "    dst_ds = drv.CreateDataSource( out_path )\n",
    "\n",
    "    sp_ref = osr.SpatialReference()\n",
    "    sp_ref.SetFromUserInput('EPSG:31982')\n",
    "\n",
    "    dst_layer = dst_ds.CreateLayer(dst_layername, srs = sp_ref )\n",
    "\n",
    "    fld = ogr.FieldDefn(\"Value\", ogr.OFTInteger)\n",
    "    dst_layer.CreateField(fld)\n",
    "    dst_field = dst_layer.GetLayerDefn().GetFieldIndex(\"Value\")\n",
    "\n",
    "    gdal.Polygonize( srcband, None, dst_layer, dst_field, [], callback=None )\n",
    "\n",
    "    del src_ds\n",
    "    del dst_ds\n",
    "    \n",
    "    ###############  COMPARAR OS SHAPES DE LUZ NOTURNA COM AREA URBANA #########################\n",
    "    '''\n",
    "    NESSA PARTE USA O OUT_PATH (SHP) E A ÁREA URBANA JÁ DEFINIDA ANTERIORMENTE EM sc_urb E area_urb\n",
    "    '''\n",
    "    \n",
    "    luz_not = gpd.read_file(out_path)\n",
    "\n",
    "    # https://geopandas.org/en/stable/docs/reference/api/geopandas.GeoDataFrame.set_crs.html\n",
    "    reproj = luz_not.set_crs(epsg=31982)\n",
    "    reproj = reproj[reproj['Value'] == 1].dissolve()\n",
    "    \n",
    "    a =  str(area_urb.within(reproj))\n",
    "\n",
    "    with open (bloco_notas, 'a') as arquivo:\n",
    "        arquivo.write(str(limiar) + ' ###### ' + str(a))\n",
    "    \n",
    "    limiar = limiar - 0.01\n",
    "\n",
    "print('LIMIAR ENCONTRADO: ', str(limiar + 0.01))"
   ]
  },
  {
   "cell_type": "code",
   "execution_count": 63,
   "id": "9db2c0fa",
   "metadata": {},
   "outputs": [
    {
     "data": {
      "image/png": "[encoded data removed]",
      "text/plain": [
       "<Figure size 720x1440 with 1 Axes>"
      ]
     },
     "metadata": {
      "needs_background": "light"
     },
     "output_type": "display_data"
    }
   ],
   "source": [
    "################### COMPARAR VETORES - SOBREPOSICAO #################\n",
    "luz_not = gpd.read_file(out_path)\n",
    "\n",
    "# https://geopandas.org/en/stable/docs/reference/api/geopandas.GeoDataFrame.set_crs.html\n",
    "reproj = luz_not.set_crs(epsg=31982)\n",
    "reproj = reproj[reproj['Value'] == 1].dissolve()\n",
    "\n",
    "base = reproj.plot(color='grey', edgecolor='black', figsize=(10, 20))\n",
    "base.set_title(f'vermelho = setores considerados \\n cinza = luz noturna com limiar \\n limiar aplicado {limiar+ 0.01}')\n",
    "area_urb.plot(ax=base, marker='o', color='red', markersize=5, figsize=(15, 30));\n"
   ]
  },
  {
   "cell_type": "code",
   "execution_count": null,
   "id": "a19adca9",
   "metadata": {},
   "outputs": [],
   "source": []
  }
 ],
 "metadata": {
  "kernelspec": {
   "display_name": "Python 3 (ipykernel)",
   "language": "python",
   "name": "python3"
  },
  "language_info": {
   "codemirror_mode": {
    "name": "ipython",
    "version": 3
   },
   "file_extension": ".py",
   "mimetype": "text/x-python",
   "name": "python",
   "nbconvert_exporter": "python",
   "pygments_lexer": "ipython3",
   "version": "3.10.5"
  }
 },
 "nbformat": 4,
 "nbformat_minor": 5
}
