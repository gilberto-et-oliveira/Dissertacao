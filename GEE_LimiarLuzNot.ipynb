{
 "cells": [
  {
   "cell_type": "code",
   "execution_count": 1,
   "id": "198fbf45",
   "metadata": {},
   "outputs": [],
   "source": [
    "import geemap\n",
    "import ee\n",
    "from osgeo import gdal, ogr, osr\n",
    "import geopandas as gpd\n",
    "import numpy as np\n",
    "import matplotlib.pyplot as plt\n",
    "import os\n"
   ]
  },
  {
   "cell_type": "code",
   "execution_count": 2,
   "id": "d30a44fc",
   "metadata": {},
   "outputs": [],
   "source": [
    "m = geemap.Map()\n",
    "m.add_basemap('HYBRID')"
   ]
  },
  {
   "cell_type": "code",
   "execution_count": 3,
   "id": "bb3d7fe2",
   "metadata": {},
   "outputs": [
    {
     "name": "stdout",
     "output_type": "stream",
     "text": [
      "ABAETETUBA\n",
      "ABEL FIGUEIREDO\n",
      "ACARÁ\n",
      "AFUÁ\n",
      "ÁGUA AZUL DO NORTE\n",
      "ALENQUER\n",
      "ALMEIRIM\n",
      "ALTAMIRA\n",
      "ANAJÁS\n",
      "ANANINDEUA\n",
      "ANAPU\n",
      "AUGUSTO CORRÊA\n",
      "AURORA DO PARÁ\n",
      "AVEIRO\n",
      "BAGRE\n",
      "BAIÃO\n",
      "BANNACH\n",
      "BARCARENA\n",
      "BELÉM\n",
      "BELTERRA\n",
      "BENEVIDES\n",
      "BOM JESUS DO TOCANTINS\n",
      "BONITO\n",
      "BRAGANÇA\n",
      "BRASIL NOVO\n",
      "BREJO GRANDE DO ARAGUAIA\n",
      "BREU BRANCO\n",
      "BREVES\n",
      "BUJARU\n",
      "CACHOEIRA DO PIRIÁ\n",
      "CACHOEIRA DO ARARI\n",
      "CAMETÁ\n",
      "CANAÃ DOS CARAJÁS\n",
      "CAPANEMA\n",
      "CAPITÃO POÇO\n",
      "CASTANHAL\n",
      "CHAVES\n",
      "COLARES\n",
      "CONCEIÇÃO DO ARAGUAIA\n",
      "CONCÓRDIA DO PARÁ\n",
      "CUMARU DO NORTE\n",
      "CURIONÓPOLIS\n",
      "CURRALINHO\n",
      "CURUÁ\n",
      "CURUÇÁ\n",
      "DOM ELISEU\n",
      "ELDORADO DOS CARAJÁS\n",
      "FARO\n",
      "FLORESTA DO ARAGUAIA\n",
      "GARRAFÃO DO NORTE\n",
      "GOIANÉSIA DO PARÁ\n",
      "GURUPÁ\n",
      "IGARAPÉ-AÇU\n",
      "IGARAPÉ-MIRI\n",
      "INHANGAPI\n",
      "IPIXUNA DO PARÁ\n",
      "IRITUIA\n",
      "ITAITUBA\n",
      "ITUPIRANGA\n",
      "JACAREACANGA\n",
      "JACUNDÁ\n",
      "JURUTI\n",
      "LIMOEIRO DO AJURU\n",
      "MÃE DO RIO\n",
      "MAGALHÃES BARATA\n",
      "MARABÁ\n",
      "MARACANÃ\n",
      "MARAPANIM\n",
      "MARITUBA\n",
      "MEDICILÂNDIA\n",
      "MELGAÇO\n",
      "MOCAJUBA\n",
      "MOJU\n",
      "MONTE ALEGRE\n",
      "MUANÁ\n",
      "NOVA ESPERANÇA DO PIRIÁ\n",
      "NOVA IPIXUNA\n",
      "NOVA TIMBOTEUA\n",
      "NOVO PROGRESSO\n",
      "NOVO REPARTIMENTO\n",
      "ÓBIDOS\n",
      "OEIRAS DO PARÁ\n",
      "ORIXIMINÁ\n",
      "OURÉM\n",
      "OURILÂNDIA DO NORTE\n",
      "PACAJÁ\n",
      "PALESTINA DO PARÁ\n",
      "PARAGOMINAS\n",
      "PARAUAPEBAS\n",
      "PAU D'ARCO\n",
      "PEIXE-BOI\n",
      "PIÇARRA\n",
      "PLACAS\n",
      "PONTA DE PEDRAS\n",
      "PORTEL\n",
      "PORTO DE MOZ\n",
      "PRAINHA\n",
      "PRIMAVERA\n",
      "QUATIPURU\n",
      "REDENÇÃO\n",
      "RIO MARIA\n",
      "RONDON DO PARÁ\n",
      "RURÓPOLIS\n",
      "SALINÓPOLIS\n",
      "SALVATERRA\n",
      "SANTA BÁRBARA DO PARÁ\n",
      "SANTA CRUZ DO ARARI\n",
      "SANTA ISABEL DO PARÁ\n",
      "SANTA LUZIA DO PARÁ\n",
      "SANTA MARIA DAS BARREIRAS\n",
      "SANTA MARIA DO PARÁ\n",
      "SANTANA DO ARAGUAIA\n",
      "SANTARÉM\n",
      "SANTARÉM NOVO\n",
      "SANTO ANTÔNIO DO TAUÁ\n",
      "SÃO CAETANO DE ODIVELAS\n",
      "SÃO DOMINGOS DO ARAGUAIA\n",
      "SÃO DOMINGOS DO CAPIM\n",
      "SÃO FÉLIX DO XINGU\n",
      "SÃO FRANCISCO DO PARÁ\n",
      "SÃO GERALDO DO ARAGUAIA\n",
      "SÃO JOÃO DA PONTA\n",
      "SÃO JOÃO DE PIRABAS\n",
      "SÃO JOÃO DO ARAGUAIA\n",
      "SÃO MIGUEL DO GUAMÁ\n",
      "SÃO SEBASTIÃO DA BOA VISTA\n",
      "SAPUCAIA\n",
      "SENADOR JOSÉ PORFÍRIO\n",
      "SOURE\n",
      "TAILÂNDIA\n",
      "TERRA ALTA\n",
      "TERRA SANTA\n",
      "TOMÉ-AÇU\n",
      "TRACUATEUA\n",
      "TRAIRÃO\n",
      "TUCUMÃ\n",
      "TUCURUÍ\n",
      "ULIANÓPOLIS\n",
      "URUARÁ\n",
      "VIGIA\n",
      "VISEU\n",
      "VITÓRIA DO XINGU\n",
      "XINGUARA\n"
     ]
    }
   ],
   "source": [
    "area_gpd = gpd.read_file('D:/ibge/municipios/2010/15MUE250GC_SIR.shp') # Municípios do Brasil - IBGE\n",
    "\n",
    "print(*area_gpd['NM_MUNICIP'], sep=\"\\n\") # lista de municípios "
   ]
  },
  {
   "cell_type": "code",
   "execution_count": 4,
   "id": "838914c7",
   "metadata": {},
   "outputs": [
    {
     "data": {
      "text/plain": [
       "<AxesSubplot:>"
      ]
     },
     "execution_count": 4,
     "metadata": {},
     "output_type": "execute_result"
    },
    {
     "data": {
      "image/png": "[encoded data removed]",
      "text/plain": [
       "<Figure size 720x1440 with 1 Axes>"
      ]
     },
     "metadata": {
      "needs_background": "light"
     },
     "output_type": "display_data"
    }
   ],
   "source": [
    "municipio = 'SANTARÉM' # Municípios do Brasil - IBGE\n",
    "area_gpd = area_gpd[area_gpd['NM_MUNICIP']== municipio ]\n",
    "\n",
    "# se estiver em Coordenadas Geográficas, entao usar o buffer em grau. Tabela: https://pt.wikipedia.org/wiki/Graus_decimais\n",
    "# 0.01 =~ 1.1132 Km\n",
    "\n",
    "# se possível utilizar em UTM, mude a projeção. Utilize algum arquivo de referencia. \n",
    "arquivo_utm = gpd.read_file('D:/INPE_DISCIPLINAS/Dissertacao/shapes/vias/vias_str_uniao.shp')\n",
    "\n",
    "area_gpd = area_gpd.to_crs(arquivo_utm.crs)\n",
    "\n",
    "buffer = 2000\n",
    "\n",
    "bb = area_gpd.envelope.buffer(buffer, 1)\n",
    "\n",
    "base = bb.plot(color='grey', edgecolor='black', figsize=(10, 20))\n",
    "area_gpd.plot(ax=base, marker='o', color='orange', markersize=5, figsize=(15, 30))"
   ]
  },
  {
   "cell_type": "code",
   "execution_count": 34,
   "id": "895eae2c",
   "metadata": {},
   "outputs": [
    {
     "data": {
      "application/vnd.jupyter.widget-view+json": {
       "model_id": "65ad86faa15b42ab8c7a0f09f84763e7",
       "version_major": 2,
       "version_minor": 0
      },
      "text/plain": [
       "Map(center=[-2.8141279241648443, -55.195479212816124], controls=(WidgetControl(options=['position', 'transpare…"
      ]
     },
     "metadata": {},
     "output_type": "display_data"
    }
   ],
   "source": [
    "# exportar o boundbox\n",
    "boundbox = 'D:/ibge/municipios/2010/BB_STR_COMPLETO.shp'\n",
    "\n",
    "if os.path.exists(boundbox):\n",
    "    os.remove(boundbox)\n",
    "\n",
    "bb.to_file(boundbox, mode = 'w')\n",
    "\n",
    "# Vizualisar a luz noturna a partir de boundbox e ver se é o dado desejado\n",
    "t = geemap.shp_to_ee(boundbox)\n",
    "\n",
    "d1 = '2020-01-01' # data de início da colecao de imagens \n",
    "d2 = '2020-12-31' # data de término da colecao de imagens\n",
    "\n",
    "# Imagem de luz noturna com filtros de área e data\n",
    "colecao = ee.ImageCollection(\"NOAA/VIIRS/DNB/MONTHLY_V1/VCMCFG\").filterBounds(t).filterDate(d1, d2)\n",
    "\n",
    "luz_not = colecao.mean().clip(t).select('avg_rad') # média da colecao\n",
    "\n",
    "Map = geemap.Map()\n",
    "Map.centerObject(t, 8)\n",
    "\n",
    "Map.addLayer(t, {}, 'boundbox')\n",
    "Map.addLayer(luz_not, {'min': 0, 'max': 0.5}, 'luz not')\n",
    "Map"
   ]
  },
  {
   "cell_type": "code",
   "execution_count": 35,
   "id": "940736c7",
   "metadata": {},
   "outputs": [
    {
     "name": "stdout",
     "output_type": "stream",
     "text": [
      "Generating URL ...\n",
      "Downloading data from https://earthengine.googleapis.com/v1alpha/projects/earthengine-legacy/thumbnails/75ffbc0cdd78223995be7faaa0f5ff90-af63d781497e75be5883a920cc7f1999:getPixels\n",
      "Please wait ...\n",
      "Data downloaded to D:\\INPE_DISCIPLINAS\\Dissertacao\\raster\\testeCOMPLETO.tif\n"
     ]
    }
   ],
   "source": [
    "#Exportar raster das luzes noturnas \n",
    "bandaLuzNot = 'D:/INPE_DISCIPLINAS/Dissertacao/raster/'\n",
    "nome = 'testeCOMPLETO.tif'\n",
    "\n",
    "out_dir = os.path.join(os.path.expanduser('~'), bandaLuzNot)\n",
    "filename = os.path.join(out_dir, nome)\n",
    "\n",
    "if os.path.exists(bandaLuzNot+nome):\n",
    "    os.remove(bandaLuzNot+nome)\n",
    "\n",
    "geemap.ee_export_image(\n",
    "    luz_not, filename=filename, region =  t.geometry(), scale=500, file_per_band=False\n",
    ")"
   ]
  },
  {
   "cell_type": "code",
   "execution_count": 37,
   "id": "37cffce2",
   "metadata": {},
   "outputs": [],
   "source": [
    "########### ABRIR ARQUIVO RASTER #######################\n",
    "\n",
    "ds = gdal.Open(bandaLuzNot+nome)\n",
    "gt = ds.GetGeoTransform()\n",
    "proj = ds.GetProjection()\n",
    "\n",
    "band = ds.GetRasterBand(1)\n",
    "array = band.ReadAsArray()"
   ]
  },
  {
   "cell_type": "code",
   "execution_count": 41,
   "id": "db9405b3",
   "metadata": {},
   "outputs": [
    {
     "name": "stdout",
     "output_type": "stream",
     "text": [
      "CRS:  GEOGCS[\"WGS 84\",DATUM[\"World Geodetic System 1984\",SPHEROID[\"WGS 84\",6378137,298.257223563]],PRIMEM[\"Greenwich\",0],UNIT[\"degree\",0.0174532925199433,AUTHORITY[\"EPSG\",\"9122\"]],AXIS[\"Latitude\",NORTH],AXIS[\"Longitude\",EAST]]\n"
     ]
    },
    {
     "data": {
      "text/plain": [
       "<matplotlib.image.AxesImage at 0x17ceb6eb1c0>"
      ]
     },
     "execution_count": 41,
     "metadata": {},
     "output_type": "execute_result"
    },
    {
     "data": {
      "image/png": "[encoded data removed]",
      "text/plain": [
       "<Figure size 432x288 with 1 Axes>"
      ]
     },
     "metadata": {
      "needs_background": "light"
     },
     "output_type": "display_data"
    }
   ],
   "source": [
    "print('CRS: ',ds.GetProjectionRef())\n",
    "coords = ds.GetProjectionRef()\n",
    "\n",
    "plt.imshow(array > 1) # exemplo de limiar"
   ]
  },
  {
   "cell_type": "code",
   "execution_count": 42,
   "id": "2ec1f347",
   "metadata": {
    "collapsed": true
   },
   "outputs": [
    {
     "data": {
      "text/html": [
       "<div>\n",
       "<style scoped>\n",
       "    .dataframe tbody tr th:only-of-type {\n",
       "        vertical-align: middle;\n",
       "    }\n",
       "\n",
       "    .dataframe tbody tr th {\n",
       "        vertical-align: top;\n",
       "    }\n",
       "\n",
       "    .dataframe thead th {\n",
       "        text-align: right;\n",
       "    }\n",
       "</style>\n",
       "<table border=\"1\" class=\"dataframe\">\n",
       "  <thead>\n",
       "    <tr style=\"text-align: right;\">\n",
       "      <th></th>\n",
       "      <th>CD_SETOR</th>\n",
       "      <th>CD_SIT</th>\n",
       "      <th>NM_SIT</th>\n",
       "      <th>CD_UF</th>\n",
       "      <th>NM_UF</th>\n",
       "      <th>SIGLA_UF</th>\n",
       "      <th>CD_MUN</th>\n",
       "      <th>NM_MUN</th>\n",
       "      <th>CD_DIST</th>\n",
       "      <th>NM_DIST</th>\n",
       "      <th>CD_SUBDIST</th>\n",
       "      <th>NM_SUBDIST</th>\n",
       "      <th>caso</th>\n",
       "      <th>situacaoNu</th>\n",
       "      <th>perim_peri</th>\n",
       "      <th>pera_buen</th>\n",
       "      <th>area_peri</th>\n",
       "      <th>NM_MUNICIP</th>\n",
       "      <th>MUNICIPIO</th>\n",
       "      <th>geometry</th>\n",
       "    </tr>\n",
       "  </thead>\n",
       "  <tbody>\n",
       "    <tr>\n",
       "      <th>0</th>\n",
       "      <td>150010705000002</td>\n",
       "      <td>1</td>\n",
       "      <td>Área Urbana de Alta Densidade de Edificações</td>\n",
       "      <td>15</td>\n",
       "      <td>Pará</td>\n",
       "      <td>PA</td>\n",
       "      <td>1500107</td>\n",
       "      <td>Abaetetuba</td>\n",
       "      <td>150010705</td>\n",
       "      <td>Abaetetuba</td>\n",
       "      <td>15001070500</td>\n",
       "      <td>None</td>\n",
       "      <td>NaN</td>\n",
       "      <td>NaN</td>\n",
       "      <td>None</td>\n",
       "      <td>None</td>\n",
       "      <td>NaN</td>\n",
       "      <td>None</td>\n",
       "      <td>None</td>\n",
       "      <td>POLYGON ((-48.87808 -1.72317, -48.87915 -1.724...</td>\n",
       "    </tr>\n",
       "    <tr>\n",
       "      <th>1</th>\n",
       "      <td>150010705000003</td>\n",
       "      <td>1</td>\n",
       "      <td>Área Urbana de Alta Densidade de Edificações</td>\n",
       "      <td>15</td>\n",
       "      <td>Pará</td>\n",
       "      <td>PA</td>\n",
       "      <td>1500107</td>\n",
       "      <td>Abaetetuba</td>\n",
       "      <td>150010705</td>\n",
       "      <td>Abaetetuba</td>\n",
       "      <td>15001070500</td>\n",
       "      <td>None</td>\n",
       "      <td>NaN</td>\n",
       "      <td>NaN</td>\n",
       "      <td>None</td>\n",
       "      <td>None</td>\n",
       "      <td>NaN</td>\n",
       "      <td>None</td>\n",
       "      <td>None</td>\n",
       "      <td>POLYGON ((-48.88343 -1.72663, -48.88333 -1.726...</td>\n",
       "    </tr>\n",
       "    <tr>\n",
       "      <th>2</th>\n",
       "      <td>150010705000004</td>\n",
       "      <td>1</td>\n",
       "      <td>Área Urbana de Alta Densidade de Edificações</td>\n",
       "      <td>15</td>\n",
       "      <td>Pará</td>\n",
       "      <td>PA</td>\n",
       "      <td>1500107</td>\n",
       "      <td>Abaetetuba</td>\n",
       "      <td>150010705</td>\n",
       "      <td>Abaetetuba</td>\n",
       "      <td>15001070500</td>\n",
       "      <td>None</td>\n",
       "      <td>NaN</td>\n",
       "      <td>NaN</td>\n",
       "      <td>None</td>\n",
       "      <td>None</td>\n",
       "      <td>NaN</td>\n",
       "      <td>None</td>\n",
       "      <td>None</td>\n",
       "      <td>POLYGON ((-48.88702 -1.72808, -48.88432 -1.728...</td>\n",
       "    </tr>\n",
       "    <tr>\n",
       "      <th>3</th>\n",
       "      <td>150010705000005</td>\n",
       "      <td>1</td>\n",
       "      <td>Área Urbana de Alta Densidade de Edificações</td>\n",
       "      <td>15</td>\n",
       "      <td>Pará</td>\n",
       "      <td>PA</td>\n",
       "      <td>1500107</td>\n",
       "      <td>Abaetetuba</td>\n",
       "      <td>150010705</td>\n",
       "      <td>Abaetetuba</td>\n",
       "      <td>15001070500</td>\n",
       "      <td>None</td>\n",
       "      <td>NaN</td>\n",
       "      <td>NaN</td>\n",
       "      <td>None</td>\n",
       "      <td>None</td>\n",
       "      <td>NaN</td>\n",
       "      <td>None</td>\n",
       "      <td>None</td>\n",
       "      <td>POLYGON ((-48.88675 -1.72717, -48.88702 -1.728...</td>\n",
       "    </tr>\n",
       "    <tr>\n",
       "      <th>4</th>\n",
       "      <td>150010705000006</td>\n",
       "      <td>1</td>\n",
       "      <td>Área Urbana de Alta Densidade de Edificações</td>\n",
       "      <td>15</td>\n",
       "      <td>Pará</td>\n",
       "      <td>PA</td>\n",
       "      <td>1500107</td>\n",
       "      <td>Abaetetuba</td>\n",
       "      <td>150010705</td>\n",
       "      <td>Abaetetuba</td>\n",
       "      <td>15001070500</td>\n",
       "      <td>None</td>\n",
       "      <td>NaN</td>\n",
       "      <td>NaN</td>\n",
       "      <td>None</td>\n",
       "      <td>None</td>\n",
       "      <td>NaN</td>\n",
       "      <td>None</td>\n",
       "      <td>None</td>\n",
       "      <td>POLYGON ((-48.88640 -1.72506, -48.88482 -1.725...</td>\n",
       "    </tr>\n",
       "  </tbody>\n",
       "</table>\n",
       "</div>"
      ],
      "text/plain": [
       "          CD_SETOR CD_SIT                                        NM_SIT CD_UF  \\\n",
       "0  150010705000002      1  Área Urbana de Alta Densidade de Edificações    15   \n",
       "1  150010705000003      1  Área Urbana de Alta Densidade de Edificações    15   \n",
       "2  150010705000004      1  Área Urbana de Alta Densidade de Edificações    15   \n",
       "3  150010705000005      1  Área Urbana de Alta Densidade de Edificações    15   \n",
       "4  150010705000006      1  Área Urbana de Alta Densidade de Edificações    15   \n",
       "\n",
       "  NM_UF SIGLA_UF   CD_MUN      NM_MUN    CD_DIST     NM_DIST   CD_SUBDIST  \\\n",
       "0  Pará       PA  1500107  Abaetetuba  150010705  Abaetetuba  15001070500   \n",
       "1  Pará       PA  1500107  Abaetetuba  150010705  Abaetetuba  15001070500   \n",
       "2  Pará       PA  1500107  Abaetetuba  150010705  Abaetetuba  15001070500   \n",
       "3  Pará       PA  1500107  Abaetetuba  150010705  Abaetetuba  15001070500   \n",
       "4  Pará       PA  1500107  Abaetetuba  150010705  Abaetetuba  15001070500   \n",
       "\n",
       "  NM_SUBDIST  caso  situacaoNu perim_peri pera_buen  area_peri NM_MUNICIP  \\\n",
       "0       None   NaN         NaN       None      None        NaN       None   \n",
       "1       None   NaN         NaN       None      None        NaN       None   \n",
       "2       None   NaN         NaN       None      None        NaN       None   \n",
       "3       None   NaN         NaN       None      None        NaN       None   \n",
       "4       None   NaN         NaN       None      None        NaN       None   \n",
       "\n",
       "  MUNICIPIO                                           geometry  \n",
       "0      None  POLYGON ((-48.87808 -1.72317, -48.87915 -1.724...  \n",
       "1      None  POLYGON ((-48.88343 -1.72663, -48.88333 -1.726...  \n",
       "2      None  POLYGON ((-48.88702 -1.72808, -48.88432 -1.728...  \n",
       "3      None  POLYGON ((-48.88675 -1.72717, -48.88702 -1.728...  \n",
       "4      None  POLYGON ((-48.88640 -1.72506, -48.88482 -1.725...  "
      ]
     },
     "execution_count": 42,
     "metadata": {},
     "output_type": "execute_result"
    }
   ],
   "source": [
    "# CAMETA E STR 2020\n",
    "sc_urb = 'D:/ibge/setor_censi/2020/PA_Setores_2020.shp' # Setores Censitários 2020\n",
    "\n",
    "area_urb_peri = gpd.read_file(sc_urb)\n",
    "\n",
    "area_urb_peri.head()\n",
    "\n",
    "#print(*sorted(set(area_urb_peri['NM_MUN'])), sep='\\n'  )  # ver lista de municípios"
   ]
  },
  {
   "cell_type": "code",
   "execution_count": 43,
   "id": "c73a7130",
   "metadata": {},
   "outputs": [
    {
     "data": {
      "text/plain": [
       "<AxesSubplot:>"
      ]
     },
     "execution_count": 43,
     "metadata": {},
     "output_type": "execute_result"
    },
    {
     "data": {
      "image/png": "[encoded data removed]",
      "text/plain": [
       "<Figure size 432x288 with 1 Axes>"
      ]
     },
     "metadata": {
      "needs_background": "light"
     },
     "output_type": "display_data"
    }
   ],
   "source": [
    "########## ABRIR ARQUIVO SHP DOS BUFFERS SELECIONADOS #######################################\n",
    "# CAMETA E STR 2020\n",
    "sc_urb = 'D:/ibge/setor_censi/2020/PA_Setores_2020.shp'\n",
    "\n",
    "area_urb_peri = gpd.read_file(sc_urb)\n",
    "area_urb_peri = area_urb_peri[area_urb_peri['NM_MUNICIP']=='SANTARÉM'] #  CAMETÁ\n",
    "area_urb_peri = area_urb_peri[area_urb_peri['area_peri'].isin([1,2,5]) ] # setor 1 - urb alt adens.; 2 - urb baixo adensa; 5 - povoado\n",
    "\n",
    "area_urb_peri[0:3]\n",
    "area_urb_peri.plot(marker='o', color='red', markersize=5, edgecolor = 'black')\n",
    "\n",
    "\n",
    "#area_urb.head()"
   ]
  },
  {
   "cell_type": "code",
   "execution_count": 48,
   "id": "2b5e4ec2",
   "metadata": {},
   "outputs": [
    {
     "data": {
      "text/plain": [
       "8946    1\n",
       "8947    2\n",
       "8948    3\n",
       "8949    4\n",
       "8951    5\n",
       "Name: ID, dtype: int64"
      ]
     },
     "execution_count": 48,
     "metadata": {},
     "output_type": "execute_result"
    }
   ],
   "source": [
    "area_urb_peri['ID'] = range(1, len(area_urb_peri['geometry']) + 1)\n",
    "area_urb_peri['ID'][0:5]\n"
   ]
  },
  {
   "cell_type": "code",
   "execution_count": 45,
   "id": "1390f503",
   "metadata": {},
   "outputs": [
    {
     "name": "stdout",
     "output_type": "stream",
     "text": [
      "epsg:4674 \n",
      " alterando EPSG \n",
      "\n",
      "epsg alterado para -> PROJCS[\"SIRGAS_2000_UTM_Zone_21S\",GEOGCS[\"GCS_SIRGAS_2000\",DATUM[\"D_SIRGAS_2000\",SPHEROID[\"GRS_1980\",6378137,298.257222101]],PRIMEM[\"Greenwich\",0],UNIT[\"Degree\",0.0174532925199433]],PROJECTION[\"Transverse_Mercator\"],PARAMETER[\"latitude_of_origin\",0],PARAMETER[\"central_meridian\",-57],PARAMETER[\"scale_factor\",0.9996],PARAMETER[\"false_easting\",500000],PARAMETER[\"false_northing\",10000000],UNIT[\"Meter\",1],AXIS[\"Easting\",EAST],AXIS[\"Northing\",NORTH]]\n"
     ]
    },
    {
     "data": {
      "text/plain": [
       "Text(0.5, 1.0, 'D:/ibge/setor_censi/2020/PA_Setores_2020.shp')"
      ]
     },
     "execution_count": 45,
     "metadata": {},
     "output_type": "execute_result"
    },
    {
     "data": {
      "image/png": "[encoded data removed]",
      "text/plain": [
       "<Figure size 432x288 with 2 Axes>"
      ]
     },
     "metadata": {
      "needs_background": "light"
     },
     "output_type": "display_data"
    }
   ],
   "source": [
    "# ALTERAR EPSG para UTM novamente\n",
    "\n",
    "print(area_urb_peri.crs, '\\n alterando EPSG \\n')\n",
    "area_urb_peri = area_urb_peri.to_crs(arquivo_utm.crs)\n",
    "print('epsg alterado para ->',area_urb_peri.crs)\n",
    "\n",
    "area_urb_peri.plot(column= 'ID', legend = True)\n",
    "plt.title(sc_urb)"
   ]
  },
  {
   "cell_type": "code",
   "execution_count": 57,
   "id": "3141ac62",
   "metadata": {},
   "outputs": [
    {
     "name": "stdout",
     "output_type": "stream",
     "text": [
      "removido: D:/INPE_DISCIPLINAS/Dissertacao/testes/luzNot_CAMETA_2020_Limiar_within_COMPLETO.tif\n",
      "removido: D:/INPE_DISCIPLINAS/Dissertacao/testes/luzNot_CAMETA_2020_Limiar_within_COMPLETO.shp\n",
      "removido: D:/INPE_DISCIPLINAS/Dissertacao/testes/luzNot_CAMETA_2020_Limiar_within_COMPLETO.txt\n"
     ]
    }
   ],
   "source": [
    "########################### MODIFICAR PARA OS DESTINOS ESPECÍFICOS DESEJADOS #################################################\n",
    "a = 'False'\n",
    "limiar = 0.5   # limiar inicial a ser utilizado na imagem\n",
    "per = 0 # porcentagem\n",
    "limiarizado = 'D:/INPE_DISCIPLINAS/Dissertacao/testes/luzNot_CAMETA_2020_Limiar_within_COMPLETO.tif'  # local do arquivo limiarizado.tif     #\n",
    "out_path = 'D:/INPE_DISCIPLINAS/Dissertacao/testes/luzNot_CAMETA_2020_Limiar_within_COMPLETO.shp' # LOCAL SHP LIMIARIZADO\n",
    "bloco_notas = 'D:/INPE_DISCIPLINAS/Dissertacao/testes/luzNot_CAMETA_2020_Limiar_within_COMPLETO.txt'  # local armazenado os valores de limiares testados #\n",
    "\n",
    "epsg = int(4326) # colocar somento o identificador do epsg\n",
    "EPSG = coords # inserir após \"EPSG:\" o identificador do epsg\n",
    "\n",
    "arquivos = [limiarizado, out_path, bloco_notas]\n",
    "for i in arquivos:\n",
    "    if os.path.exists(i):\n",
    "        os.remove(i)\n",
    "        print(f'removido: {i}')\n",
    "    else:\n",
    "        print(f'sem arquivos com nomes repetidos')"
   ]
  },
  {
   "cell_type": "code",
   "execution_count": 58,
   "id": "25da57e6",
   "metadata": {},
   "outputs": [
    {
     "name": "stdout",
     "output_type": "stream",
     "text": [
      "teste limiar:  0.5\n",
      "0.5739130434782609 setores dentro\n",
      "teste limiar:  0.49\n",
      "0.5739130434782609 setores dentro\n",
      "teste limiar:  0.48\n",
      "0.5739130434782609 setores dentro\n",
      "teste limiar:  0.47\n",
      "0.5739130434782609 setores dentro\n",
      "teste limiar:  0.45999999999999996\n",
      "0.5826086956521739 setores dentro\n",
      "teste limiar:  0.44999999999999996\n",
      "0.591304347826087 setores dentro\n",
      "teste limiar:  0.43999999999999995\n",
      "0.6 setores dentro\n",
      "LIMIAR ENCONTRADO:  0.43999999999999995\n"
     ]
    }
   ],
   "source": [
    "while per < 0.6: # PORCENTAGEM DE SETORES QUE INTERSECTAM COM O LIMIAR.\n",
    "                 # a partir de testes foi verificado resultados satisfatórios com: STR = 0.7; CMT = 0.6\n",
    "    ####################### EXPORTANDO O RASTER LIMIARIZADO ######################\n",
    "    '''\n",
    "    NESSA PARTE USA O LIMIARIZADO E O LIMIAR\n",
    "    '''\n",
    "    print('teste limiar: ', limiar)\n",
    "    classificacao = array > limiar\n",
    "\n",
    "    if os.path.exists(limiarizado):\n",
    "        os.remove(limiarizado) \n",
    "        \n",
    "    driver = gdal.GetDriverByName('GTiff')\n",
    "    driver.Register()\n",
    "\n",
    "    outds = driver.Create(limiarizado, xsize=classificacao.shape[1],\n",
    "                     ysize = classificacao.shape[0],\n",
    "                     bands = 1,\n",
    "                     eType = gdal.GDT_Float32)\n",
    "\n",
    "    outds.SetGeoTransform(gt)\n",
    "    outds.SetProjection(proj)\n",
    "    outband = outds.GetRasterBand(1)\n",
    "    outband.WriteArray(classificacao)\n",
    "    outband.SetNoDataValue(np.nan)\n",
    "    outband.FlushCache()\n",
    "\n",
    "    outband = None\n",
    "    outds = None\n",
    "     \n",
    "    ######################## CONVERTER RASTER LIMIARIZADO PARA VETOR ####################\n",
    "    '''\n",
    "    NESSA PARTE USA O LIMIARIZADO (TIF) E O OUT_PATH (SHP)\n",
    "    '''\n",
    "    if os.path.exists(out_path):\n",
    "            os.remove(out_path)\n",
    "\n",
    "    #  get raster datasource\n",
    "    src_ds = gdal.Open( limiarizado )\n",
    "    #\n",
    "    srcband = src_ds.GetRasterBand(1)\n",
    "    dst_layername = 'teste_cameta2013'\n",
    "    drv = ogr.GetDriverByName(\"ESRI Shapefile\")\n",
    "    dst_ds = drv.CreateDataSource( out_path )\n",
    "\n",
    "    sp_ref = osr.SpatialReference()\n",
    "    sp_ref.SetFromUserInput(EPSG)\n",
    "\n",
    "    dst_layer = dst_ds.CreateLayer(dst_layername, srs = sp_ref )\n",
    "\n",
    "    fld = ogr.FieldDefn(\"Value\", ogr.OFTInteger)\n",
    "    dst_layer.CreateField(fld)\n",
    "    dst_field = dst_layer.GetLayerDefn().GetFieldIndex(\"Value\")\n",
    "\n",
    "    gdal.Polygonize( srcband, None, dst_layer, dst_field, [], callback=None )\n",
    "\n",
    "    del src_ds\n",
    "    del dst_ds\n",
    "    \n",
    "    ###############  COMPARAR OS SHAPES DE LUZ NOTURNA COM AREA URBANA #########################\n",
    "    '''\n",
    "    NESSA PARTE USA O OUT_PATH (SHP) E A ÁREA URBANA JÁ DEFINIDA ANTERIORMENTE EM sc_urb E area_urb\n",
    "    '''\n",
    "    \n",
    "    luz_not = gpd.read_file(out_path)\n",
    "\n",
    "    # https://geopandas.org/en/stable/docs/reference/api/geopandas.GeoDataFrame.set_crs.html\n",
    "    reproj = luz_not.to_crs(area_urb_peri.crs)\n",
    "    reproj = reproj[reproj['Value'] == 1].dissolve()\n",
    "    \n",
    "    s = 0 # soma dos setores para porcentagem futura\n",
    "    t = 0 # setores com intersecção\n",
    "    for i in area_urb_peri['ID']:\n",
    "        a = area_urb_peri[area_urb_peri['ID'] == i].dissolve()\n",
    "        \n",
    "        if 'False' not in str(a.within(reproj)): # within ou intersects\n",
    "            #print(i, 'intersects')\n",
    "            t = t + 1\n",
    "        \n",
    "        s = s+1\n",
    "    \n",
    "    per = t/s    \n",
    "    print(f\"{per} setores dentro\")\n",
    "    with open (bloco_notas, 'a') as arquivo:\n",
    "        arquivo.write(f\"{str(limiar)} ----- {per} setores inseridos\")\n",
    "    \n",
    "    limiar = limiar - 0.01\n",
    "\n",
    "limiar = limiar + 0.01\n",
    "print('LIMIAR ENCONTRADO: ', str(limiar))\n",
    "with open (bloco_notas, 'a') as arquivo:\n",
    "    arquivo.write(f'LIMIAR ENCONTRADO: {str(limiar)}')\n",
    "    \n",
    "per = per * 100\n"
   ]
  },
  {
   "cell_type": "code",
   "execution_count": 59,
   "id": "451c5eb6",
   "metadata": {},
   "outputs": [
    {
     "data": {
      "text/plain": [
       "<AxesSubplot:title={'center':'D:/ibge/setor_censi/2020/PA_Setores_2020.shp \\nlaranja = setores considerados \\ncinza = luz noturna com limiar 0.43999999999999995 \\n%60.0 dos setores inseridos'}>"
      ]
     },
     "execution_count": 59,
     "metadata": {},
     "output_type": "execute_result"
    },
    {
     "data": {
      "image/png": "[encoded data removed]",
      "text/plain": [
       "<Figure size 720x1440 with 1 Axes>"
      ]
     },
     "metadata": {
      "needs_background": "light"
     },
     "output_type": "display_data"
    }
   ],
   "source": [
    "out_path = 'D:/INPE_DISCIPLINAS/Dissertacao/testes/luzNot_CAMETA_2020_Limiar_within_COMPLETO.shp' # LOCAL SHP LIMIARIZADO\n",
    "arquivo_utm = gpd.read_file('D:/INPE_DISCIPLINAS/Dissertacao/shapes/vias/vias_str_uniao.shp')\n",
    "\n",
    "################### COMPARAR VETORES - SOBREPOSICAO #################\n",
    "luz_not = gpd.read_file(out_path)\n",
    "\n",
    "area_gpd = area_gpd.to_crs(arquivo_utm.crs)\n",
    "luz_not = luz_not.to_crs(arquivo_utm.crs)\n",
    "\n",
    "# https://geopandas.org/en/stable/docs/reference/api/geopandas.GeoDataFrame.set_crs.html\n",
    "reproj = luz_not.to_crs(arquivo_utm.crs)\n",
    "reproj = reproj[reproj['Value'] == 1] #.dissolve()\n",
    "reproj = gpd.clip(reproj, area_gpd)\n",
    "\n",
    "\n",
    "base = reproj.plot(color='grey', edgecolor='black', figsize=(10, 20))\n",
    "base.set_title(f'{sc_urb} \\nlaranja = setores considerados \\ncinza = luz noturna com limiar {limiar} \\n%{round(per, 2)} dos setores inseridos')\n",
    "area_urb_peri.plot(ax=base, marker='o', color='orange', markersize=5, figsize=(15, 30))\n",
    "area_gpd.boundary.plot(ax=base)"
   ]
  },
  {
   "cell_type": "code",
   "execution_count": null,
   "id": "41008ada",
   "metadata": {},
   "outputs": [],
   "source": []
  },
  {
   "cell_type": "code",
   "execution_count": null,
   "id": "5b1572f3",
   "metadata": {},
   "outputs": [],
   "source": []
  }
 ],
 "metadata": {
  "kernelspec": {
   "display_name": "Python 3 (ipykernel)",
   "language": "python",
   "name": "python3"
  },
  "language_info": {
   "codemirror_mode": {
    "name": "ipython",
    "version": 3
   },
   "file_extension": ".py",
   "mimetype": "text/x-python",
   "name": "python",
   "nbconvert_exporter": "python",
   "pygments_lexer": "ipython3",
   "version": "3.10.5"
  }
 },
 "nbformat": 4,
 "nbformat_minor": 5
}
